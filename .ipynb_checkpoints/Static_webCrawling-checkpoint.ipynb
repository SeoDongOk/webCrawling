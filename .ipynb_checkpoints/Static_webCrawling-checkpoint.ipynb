{
 "cells": [
  {
   "cell_type": "markdown",
   "id": "1205f4e4",
   "metadata": {},
   "source": [
    "# 정적 웹 크롤링 함수화\n"
   ]
  },
  {
   "cell_type": "code",
   "execution_count": 35,
   "id": "83fa52ce",
   "metadata": {},
   "outputs": [
    {
     "name": "stdout",
     "output_type": "stream",
     "text": [
      "Requirement already satisfied: beautifulsoup4 in /Users/seodong-og/anaconda3/lib/python3.11/site-packages (4.12.2)\n",
      "Requirement already satisfied: soupsieve>1.2 in /Users/seodong-og/anaconda3/lib/python3.11/site-packages (from beautifulsoup4) (2.4)\n",
      "Note: you may need to restart the kernel to use updated packages.\n"
     ]
    }
   ],
   "source": [
    "pip install beautifulsoup4"
   ]
  },
  {
   "cell_type": "code",
   "execution_count": 36,
   "id": "e6342fc5",
   "metadata": {},
   "outputs": [
    {
     "name": "stdout",
     "output_type": "stream",
     "text": [
      "Requirement already satisfied: requests in /Users/seodong-og/anaconda3/lib/python3.11/site-packages (2.31.0)\n",
      "Requirement already satisfied: charset-normalizer<4,>=2 in /Users/seodong-og/anaconda3/lib/python3.11/site-packages (from requests) (2.0.4)\n",
      "Requirement already satisfied: idna<4,>=2.5 in /Users/seodong-og/anaconda3/lib/python3.11/site-packages (from requests) (3.4)\n",
      "Requirement already satisfied: urllib3<3,>=1.21.1 in /Users/seodong-og/anaconda3/lib/python3.11/site-packages (from requests) (1.26.16)\n",
      "Requirement already satisfied: certifi>=2017.4.17 in /Users/seodong-og/anaconda3/lib/python3.11/site-packages (from requests) (2023.7.22)\n",
      "Note: you may need to restart the kernel to use updated packages.\n"
     ]
    }
   ],
   "source": [
    "pip install requests\n"
   ]
  },
  {
   "cell_type": "code",
   "execution_count": 38,
   "id": "3adc2a2c",
   "metadata": {},
   "outputs": [],
   "source": [
    "import requests\n",
    "from bs4 import BeautifulSoup as bs"
   ]
  },
  {
   "cell_type": "code",
   "execution_count": 39,
   "id": "636348c3",
   "metadata": {},
   "outputs": [],
   "source": [
    "def callCrolling(urlLink, targetData):\n",
    "    response =requests.get(str(urlLink))\n",
    "    html_text = response.text\n",
    "    soup = bs(response.text, 'html.parser')\n",
    "    targetResult = soup.select(str(targetData))\n",
    "    \n",
    "    for i in targetResult:\n",
    "        lineData = i.get_text()\n",
    "        print(lineData)\n",
    "    "
   ]
  },
  {
   "cell_type": "code",
   "execution_count": 40,
   "id": "1eb4dbac",
   "metadata": {},
   "outputs": [
    {
     "name": "stdout",
     "output_type": "stream",
     "text": [
      "지주사 블록딜 여파…HD현대중공업 급락\n",
      "외국인·기관 '원전주 쌍끌이'…체코 수주 기대\n",
      "슈퍼리치 몰리는 KP물…공모펀드로 투자해 볼까\n",
      "반도체팹리스 아이씨티케이, 상장 첫날 44% 올랐다\n",
      "이마트, 깜짝 실적에도 목표주가 줄하향\n",
      "\"돈 버는 주식 골라준다\"…AI에 맡겼더니 '깜짝 결과'\n",
      "하루 만에 '5조' 증발했다…'HLB 쇼크'에 개미들 '비명'\n",
      "[한경유레카 포커스] AI`s pick: \"우리기술\"\n",
      "월가 \"한국주식 사라\"… 외국인 장투족의 귀환\n",
      "두나무, 22일 '업비트 피자데이' 이벤트\n",
      "클리노믹스, 10억 규모 제3자배정 유상증자 결정\n",
      "한국법제연구원, ESG 공시 관련 법제 개선안 보고서 발간\n",
      "[ETF줌인] 美 '칩메이킹' 기업 집중투자…개미들 한달새 175억 담았다\n",
      "고금리·강달러 부담 던 韓증시 … \"바이코리아 타이밍 왔다\"\n",
      "\"도전은 끝나지 않았다\" 진양곤 회장, 사내게시판 통해 임직원 격려\n",
      "[코스닥 공시] 래몽래인 / 이노시뮬레이션\n",
      "[유가증권시장 공시] 효성중공업 / HD현대미포 / LG에너지솔루션 등\n",
      "\"의대 증원 예정대로\"…교육株 고공행진\n",
      "은행채 '파킹통장' ETF 순자산 5000억원 돌파\n",
      "아이씨티케이, 상장 첫날 44% 급등\n",
      "\"목표고객 뚜렷해야 생존\" 코스트코·월마트 '환호'\n",
      "K불닭의 힘…삼양식품 시총, 농심 첫 추월\n",
      "[올댓차이나] 대만 증시, 이익확정 매물로 6일 만에 반락…0.21%↓\n",
      "클리노믹스, 3자배정 유상증자 결정\n",
      "\"투자 매력도 높다\"…중국 대안으로 등장한 이 나라는?\n",
      "[유럽개장]주요 증시 하락 출발…英 0.36%↓\n",
      "\"바이오株 개별 접근 필요\"…ASCO 반전 주목\n",
      "국내주식 반짝 매수한 개미…해외투자는 더 늘렸다\n",
      "美 FDA 승인 불발에 HLB 그룹주 일제히 하한가…삼양식품은 ‘실적 대박’에 상한가 [이종화의 장보GO]\n",
      "'좀비'된 기술특례…관리종목 쏟아진다[시그널]\n",
      "업그레이드 지연에 390억원 탈취까지…비트코인 생태계 위기 맞나\n",
      "실적 훈풍에…하나투어 매각 늦춘다 [시그널]\n",
      "하루 12시간 거래, 사고위험도 '껑충'…\"개선 필요하다\"\n",
      "\"HLB의 도전, 끝나지 않았다…최종승인 받겠다\"\n",
      "적자 기업들 시장에 손 내밀지만…반응은 냉랭[시그널]\n",
      "작년 상장 기술특례기업 97%가 매출 추정치 미달…\"수주·개발 등 공시 의무화 시급\"[시그널]\n"
     ]
    }
   ],
   "source": [
    "callCrolling(\"https://news.naver.com/breakingnews/section/101/258\", \"strong.sa_text_strong\")\n"
   ]
  },
  {
   "cell_type": "code",
   "execution_count": null,
   "id": "acf447a4",
   "metadata": {},
   "outputs": [],
   "source": []
  }
 ],
 "metadata": {
  "kernelspec": {
   "display_name": "Python 3 (ipykernel)",
   "language": "python",
   "name": "python3"
  },
  "language_info": {
   "codemirror_mode": {
    "name": "ipython",
    "version": 3
   },
   "file_extension": ".py",
   "mimetype": "text/x-python",
   "name": "python",
   "nbconvert_exporter": "python",
   "pygments_lexer": "ipython3",
   "version": "3.11.5"
  }
 },
 "nbformat": 4,
 "nbformat_minor": 5
}
