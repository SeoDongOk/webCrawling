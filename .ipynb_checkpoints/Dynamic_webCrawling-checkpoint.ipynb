{
 "cells": [
  {
   "cell_type": "code",
   "execution_count": 63,
   "id": "0e8d6183",
   "metadata": {},
   "outputs": [
    {
     "name": "stdout",
     "output_type": "stream",
     "text": [
      "Requirement already satisfied: selenium in /Users/seodong-og/anaconda3/lib/python3.11/site-packages (4.21.0)\n",
      "Requirement already satisfied: urllib3[socks]<3,>=1.26 in /Users/seodong-og/anaconda3/lib/python3.11/site-packages (from selenium) (1.26.16)\n",
      "Requirement already satisfied: trio~=0.17 in /Users/seodong-og/anaconda3/lib/python3.11/site-packages (from selenium) (0.25.1)\n",
      "Requirement already satisfied: trio-websocket~=0.9 in /Users/seodong-og/anaconda3/lib/python3.11/site-packages (from selenium) (0.11.1)\n",
      "Requirement already satisfied: certifi>=2021.10.8 in /Users/seodong-og/anaconda3/lib/python3.11/site-packages (from selenium) (2023.7.22)\n",
      "Requirement already satisfied: typing_extensions>=4.9.0 in /Users/seodong-og/anaconda3/lib/python3.11/site-packages (from selenium) (4.11.0)\n",
      "Requirement already satisfied: attrs>=23.2.0 in /Users/seodong-og/anaconda3/lib/python3.11/site-packages (from trio~=0.17->selenium) (23.2.0)\n",
      "Requirement already satisfied: sortedcontainers in /Users/seodong-og/anaconda3/lib/python3.11/site-packages (from trio~=0.17->selenium) (2.4.0)\n",
      "Requirement already satisfied: idna in /Users/seodong-og/anaconda3/lib/python3.11/site-packages (from trio~=0.17->selenium) (3.4)\n",
      "Requirement already satisfied: outcome in /Users/seodong-og/anaconda3/lib/python3.11/site-packages (from trio~=0.17->selenium) (1.3.0.post0)\n",
      "Requirement already satisfied: sniffio>=1.3.0 in /Users/seodong-og/anaconda3/lib/python3.11/site-packages (from trio~=0.17->selenium) (1.3.1)\n",
      "Requirement already satisfied: wsproto>=0.14 in /Users/seodong-og/anaconda3/lib/python3.11/site-packages (from trio-websocket~=0.9->selenium) (1.2.0)\n",
      "Requirement already satisfied: PySocks!=1.5.7,<2.0,>=1.5.6 in /Users/seodong-og/anaconda3/lib/python3.11/site-packages (from urllib3[socks]<3,>=1.26->selenium) (1.7.1)\n",
      "Requirement already satisfied: h11<1,>=0.9.0 in /Users/seodong-og/anaconda3/lib/python3.11/site-packages (from wsproto>=0.14->trio-websocket~=0.9->selenium) (0.14.0)\n",
      "Note: you may need to restart the kernel to use updated packages.\n"
     ]
    }
   ],
   "source": [
    "pip install selenium"
   ]
  },
  {
   "cell_type": "code",
   "execution_count": 64,
   "id": "f8b311a2",
   "metadata": {},
   "outputs": [],
   "source": [
    "# selenium의 webdriver를 사용하기 위한 import\n",
    "from selenium import webdriver\n",
    "# selenium으로 키를 조작하기 위한 import\n",
    "from selenium.webdriver.common.keys import Keys\n",
    "from selenium.webdriver.common.by import By\n",
    "\n",
    "\n",
    "# 페이지 로딩을 기다리는데에 사용할 time 모듈 import\n",
    "import time"
   ]
  },
  {
   "cell_type": "markdown",
   "id": "3dfa1f8a",
   "metadata": {},
   "source": [
    "# 함수화\n"
   ]
  },
  {
   "cell_type": "code",
   "execution_count": 65,
   "id": "d02a6079",
   "metadata": {
    "scrolled": true
   },
   "outputs": [
    {
     "name": "stdout",
     "output_type": "stream",
     "text": [
      "검색할 키워드를 입력하세요: 비트코인\n",
      "반등하는 비트코인…1억 재돌파하나\n",
      "두나무, '피자데이 이벤트' 개최…\"비트코인·피자 쏜다\"\n",
      "中 본토에서 투자 못하니… 홍콩 비트코인 ETF, 출시 후 자금 순유출\n",
      "\"8만달러 가는길 열려\"...CPI 발표에 비트코인 '축포'\n",
      "비트코인 상승에…국내 가상자산 시총 43.6조원\n",
      "비트코인, 美 CPI 둔화에 급등 9100만원대 돌파… \"금리 인하 기대감\"\n",
      "\"시카고상품거래소가 비트코인 거래 검토?\"…코인베이스 9% 급락\n",
      "美 4월 물가 지표 완화에…비트코인 한때 6만5천달러선 회복\n",
      "게리 겐슬러 만난 이복현…국내도 비트코인 ETF 출시 임박? [투자360]\n",
      "비트코인 현물 ETF, 기관보다 개인이 더 샀다\n"
     ]
    }
   ],
   "source": [
    "def searchInNaverWithOpenWeb(query):\n",
    "    url = \"https://www.naver.com/\"\n",
    "    driver = webdriver.Chrome()\n",
    "    driver.get(url)\n",
    "    time.sleep(3)\n",
    "\n",
    "    search_box =driver.find_element(By.ID, \"query\")\n",
    "    search_box.send_keys(query)\n",
    "    search_box.send_keys(Keys.RETURN)\n",
    "    time.sleep(2)\n",
    "    # 뉴스 탭 클릭\n",
    "    driver.find_element(By.XPATH,'//*[@id=\"lnb\"]/div[1]/div/div[1]/div/div[1]/div[1]/a').click()\n",
    "    news_title = driver.find_elements(By.CLASS_NAME, \"news_tit\")\n",
    "    time.sleep(2)\n",
    "    \n",
    "    for i in news_title:\n",
    "        title = i.text\n",
    "        print(title)\n",
    "    driver.back()\n",
    "    \n",
    "query = input('검색할 키워드를 입력하세요: ')\n",
    "searchInNaverWithOpenWeb(query)"
   ]
  },
  {
   "cell_type": "code",
   "execution_count": null,
   "id": "c3a1b9e6",
   "metadata": {},
   "outputs": [],
   "source": []
  }
 ],
 "metadata": {
  "kernelspec": {
   "display_name": "Python 3 (ipykernel)",
   "language": "python",
   "name": "python3"
  },
  "language_info": {
   "codemirror_mode": {
    "name": "ipython",
    "version": 3
   },
   "file_extension": ".py",
   "mimetype": "text/x-python",
   "name": "python",
   "nbconvert_exporter": "python",
   "pygments_lexer": "ipython3",
   "version": "3.11.5"
  }
 },
 "nbformat": 4,
 "nbformat_minor": 5
}
